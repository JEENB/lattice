{
 "cells": [
  {
   "cell_type": "code",
   "execution_count": 4,
   "metadata": {},
   "outputs": [],
   "source": [
    "from sample_lattice import *\n",
    "basis = np.array([[1,0], [0,1]])\n",
    "center =  np.array([[5,5]])\n",
    "s = SampleLattice(dim=2, basis = basis, c=center, sigma=5, tao=3)\n",
    "samples = []\n",
    "for i in range(100000):\n",
    "\n",
    "    samples.append(tuple(s.sample()))\n",
    "\n",
    "us = set(samples)\n",
    "unis = {}\n",
    "for s in us:\n",
    "    unis[tuple(s)] = 0\n",
    "\n",
    "for sam in samples:\n",
    "    unis[tuple(sam)] = unis[tuple(sam)] + 1\n",
    "\n",
    "x_ax = []\n",
    "y_ax = []\n",
    "z_ax = list(unis.values())\n",
    "\n",
    "for i in unis.keys():\n",
    "    x_ax.append(i[0])\n",
    "    y_ax.append(i[1]) "
   ]
  },
  {
   "cell_type": "code",
   "execution_count": 6,
   "metadata": {},
   "outputs": [
    {
     "data": {
      "application/vnd.plotly.v1+json": {
       "config": {
        "plotlyServerURL": "https://plot.ly"
       },
       "data": [
        {
         "marker": {
          "opacity": 0.8,
          "size": 2
         },
         "mode": "markers",
         "showlegend": false,
         "type": "scatter3d",
         "x": [
          12,
          4,
          4,
          5,
          8,
          3,
          5,
          8,
          10,
          9,
          0,
          2,
          11,
          -3,
          2,
          13,
          6,
          7,
          -1,
          6,
          7,
          -1,
          -2,
          4,
          3,
          5,
          8,
          9,
          0,
          5,
          8,
          9,
          11,
          2,
          0,
          13,
          1,
          6,
          7,
          -1,
          6,
          7,
          -1,
          -2,
          3,
          5,
          8,
          9,
          0,
          2,
          11,
          0,
          11,
          1,
          6,
          7,
          -1,
          -2,
          3,
          5,
          5,
          8,
          3,
          5,
          9,
          0,
          11,
          1,
          7,
          7,
          1,
          7,
          -1,
          -2,
          12,
          3,
          5,
          9,
          3,
          5,
          4,
          9,
          9,
          11,
          -3,
          10,
          1,
          6,
          7,
          7,
          -4,
          12,
          3,
          5,
          4,
          14,
          9,
          3,
          5,
          4,
          9,
          -3,
          10,
          1,
          1,
          10,
          1,
          2,
          7,
          7,
          3,
          3,
          12,
          3,
          5,
          4,
          9,
          -3,
          8,
          10,
          1,
          1,
          0,
          2,
          7,
          6,
          12,
          3,
          3,
          5,
          4,
          8,
          10,
          1,
          0,
          2,
          7,
          1,
          2,
          -2,
          6,
          -2,
          12,
          3,
          -1,
          4,
          14,
          3,
          4,
          -3,
          8,
          10,
          10,
          8,
          10,
          1,
          0,
          2,
          11,
          2,
          6,
          6,
          -1,
          -2,
          3,
          12,
          4,
          4,
          8,
          10,
          8,
          10,
          1,
          0,
          2,
          9,
          11,
          6,
          -2,
          -1,
          3,
          7,
          -1,
          4,
          8,
          10,
          9,
          0,
          11,
          2,
          2,
          10,
          0,
          2,
          11,
          6,
          6,
          6,
          7,
          -2,
          -1,
          4,
          4,
          4,
          8,
          8,
          5,
          8,
          10,
          9,
          1,
          2,
          0,
          11,
          0,
          2,
          13,
          6,
          6,
          7,
          -1
         ],
         "y": [
          4,
          0,
          9,
          1,
          0,
          13,
          10,
          9,
          6,
          8,
          5,
          2,
          5,
          6,
          11,
          8,
          2,
          1,
          -1,
          11,
          10,
          7,
          7,
          2,
          6,
          3,
          2,
          1,
          -1,
          12,
          11,
          10,
          7,
          4,
          7,
          1,
          8,
          4,
          3,
          0,
          13,
          12,
          9,
          9,
          8,
          5,
          4,
          3,
          0,
          -3,
          0,
          9,
          9,
          10,
          6,
          5,
          2,
          2,
          1,
          -1,
          -2,
          -3,
          10,
          7,
          5,
          2,
          2,
          3,
          -1,
          -2,
          12,
          7,
          4,
          4,
          6,
          3,
          0,
          -1,
          12,
          9,
          11,
          -2,
          7,
          4,
          5,
          8,
          5,
          1,
          0,
          9,
          9,
          8,
          5,
          2,
          4,
          5,
          0,
          14,
          11,
          13,
          9,
          7,
          1,
          -1,
          -2,
          10,
          7,
          6,
          2,
          11,
          -1,
          -2,
          10,
          7,
          4,
          6,
          2,
          9,
          6,
          3,
          0,
          9,
          11,
          8,
          4,
          8,
          3,
          0,
          9,
          6,
          8,
          8,
          5,
          2,
          4,
          1,
          -3,
          11,
          10,
          5,
          10,
          6,
          5,
          2,
          6,
          1,
          2,
          11,
          10,
          4,
          1,
          -1,
          -2,
          10,
          7,
          4,
          6,
          3,
          6,
          12,
          3,
          12,
          8,
          8,
          4,
          7,
          3,
          12,
          3,
          0,
          12,
          9,
          6,
          8,
          5,
          11,
          8,
          5,
          1,
          1,
          -3,
          13,
          10,
          5,
          5,
          2,
          4,
          1,
          1,
          -1,
          -2,
          11,
          10,
          7,
          10,
          -1,
          -2,
          7,
          6,
          3,
          3,
          -1,
          -2,
          7,
          -1,
          -2,
          8,
          7,
          4,
          6,
          1,
          0,
          3,
          3,
          12,
          9,
          6,
          0,
          9,
          8,
          5
         ],
         "z": [
          7,
          132,
          513,
          505,
          53,
          1,
          174,
          190,
          142,
          165,
          156,
          410,
          49,
          2,
          11,
          1,
          1164,
          293,
          1,
          31,
          103,
          29,
          5,
          1154,
          2184,
          2344,
          413,
          66,
          8,
          9,
          6,
          27,
          37,
          1185,
          114,
          1,
          145,
          3162,
          1471,
          2,
          2,
          2,
          7,
          1,
          786,
          4049,
          1103,
          349,
          7,
          1,
          1,
          23,
          5,
          28,
          3184,
          2458,
          11,
          3,
          312,
          39,
          6,
          1,
          98,
          2422,
          508,
          46,
          13,
          277,
          32,
          10,
          2,
          1547,
          43,
          10,
          8,
          1530,
          178,
          8,
          5,
          535,
          33,
          2,
          322,
          26,
          1,
          44,
          568,
          496,
          100,
          326,
          1,
          2,
          2403,
          1338,
          3132,
          2,
          28,
          1,
          47,
          2,
          76,
          1,
          28,
          6,
          1,
          7,
          332,
          1071,
          802,
          21,
          28,
          8,
          2,
          1449,
          3551,
          3075,
          174,
          1,
          1183,
          86,
          22,
          67,
          1,
          420,
          2101,
          1120,
          2,
          104,
          304,
          3527,
          1137,
          400,
          175,
          163,
          149,
          180,
          1,
          7,
          68,
          11,
          159,
          6,
          7,
          761,
          30,
          472,
          1,
          24,
          149,
          1,
          164,
          1,
          1,
          55,
          118,
          470,
          169,
          761,
          36,
          2,
          2108,
          9,
          10,
          2,
          2088,
          3,
          2082,
          6,
          704,
          5,
          2,
          25,
          440,
          75,
          1380,
          4,
          13,
          3542,
          3,
          10,
          1,
          1,
          3,
          3525,
          1254,
          47,
          474,
          24,
          6,
          19,
          3,
          1,
          6,
          823,
          1,
          37,
          12,
          2079,
          2193,
          4,
          27,
          35,
          7,
          2100,
          8,
          5,
          1290,
          754,
          142,
          442,
          65,
          53,
          82,
          32,
          2,
          206,
          1,
          144,
          481,
          811,
          52
         ]
        },
        {
         "line": {
          "color": "red",
          "width": 2
         },
         "mode": "markers",
         "name": "Center",
         "type": "scatter3d",
         "x": [
          5
         ],
         "y": [
          5
         ],
         "z": [
          0
         ]
        }
       ],
       "layout": {
        "height": 600,
        "margin": {
         "b": 0,
         "l": 0,
         "r": 0,
         "t": 0
        },
        "template": {
         "data": {
          "bar": [
           {
            "error_x": {
             "color": "#2a3f5f"
            },
            "error_y": {
             "color": "#2a3f5f"
            },
            "marker": {
             "line": {
              "color": "#E5ECF6",
              "width": 0.5
             },
             "pattern": {
              "fillmode": "overlay",
              "size": 10,
              "solidity": 0.2
             }
            },
            "type": "bar"
           }
          ],
          "barpolar": [
           {
            "marker": {
             "line": {
              "color": "#E5ECF6",
              "width": 0.5
             },
             "pattern": {
              "fillmode": "overlay",
              "size": 10,
              "solidity": 0.2
             }
            },
            "type": "barpolar"
           }
          ],
          "carpet": [
           {
            "aaxis": {
             "endlinecolor": "#2a3f5f",
             "gridcolor": "white",
             "linecolor": "white",
             "minorgridcolor": "white",
             "startlinecolor": "#2a3f5f"
            },
            "baxis": {
             "endlinecolor": "#2a3f5f",
             "gridcolor": "white",
             "linecolor": "white",
             "minorgridcolor": "white",
             "startlinecolor": "#2a3f5f"
            },
            "type": "carpet"
           }
          ],
          "choropleth": [
           {
            "colorbar": {
             "outlinewidth": 0,
             "ticks": ""
            },
            "type": "choropleth"
           }
          ],
          "contour": [
           {
            "colorbar": {
             "outlinewidth": 0,
             "ticks": ""
            },
            "colorscale": [
             [
              0,
              "#0d0887"
             ],
             [
              0.1111111111111111,
              "#46039f"
             ],
             [
              0.2222222222222222,
              "#7201a8"
             ],
             [
              0.3333333333333333,
              "#9c179e"
             ],
             [
              0.4444444444444444,
              "#bd3786"
             ],
             [
              0.5555555555555556,
              "#d8576b"
             ],
             [
              0.6666666666666666,
              "#ed7953"
             ],
             [
              0.7777777777777778,
              "#fb9f3a"
             ],
             [
              0.8888888888888888,
              "#fdca26"
             ],
             [
              1,
              "#f0f921"
             ]
            ],
            "type": "contour"
           }
          ],
          "contourcarpet": [
           {
            "colorbar": {
             "outlinewidth": 0,
             "ticks": ""
            },
            "type": "contourcarpet"
           }
          ],
          "heatmap": [
           {
            "colorbar": {
             "outlinewidth": 0,
             "ticks": ""
            },
            "colorscale": [
             [
              0,
              "#0d0887"
             ],
             [
              0.1111111111111111,
              "#46039f"
             ],
             [
              0.2222222222222222,
              "#7201a8"
             ],
             [
              0.3333333333333333,
              "#9c179e"
             ],
             [
              0.4444444444444444,
              "#bd3786"
             ],
             [
              0.5555555555555556,
              "#d8576b"
             ],
             [
              0.6666666666666666,
              "#ed7953"
             ],
             [
              0.7777777777777778,
              "#fb9f3a"
             ],
             [
              0.8888888888888888,
              "#fdca26"
             ],
             [
              1,
              "#f0f921"
             ]
            ],
            "type": "heatmap"
           }
          ],
          "heatmapgl": [
           {
            "colorbar": {
             "outlinewidth": 0,
             "ticks": ""
            },
            "colorscale": [
             [
              0,
              "#0d0887"
             ],
             [
              0.1111111111111111,
              "#46039f"
             ],
             [
              0.2222222222222222,
              "#7201a8"
             ],
             [
              0.3333333333333333,
              "#9c179e"
             ],
             [
              0.4444444444444444,
              "#bd3786"
             ],
             [
              0.5555555555555556,
              "#d8576b"
             ],
             [
              0.6666666666666666,
              "#ed7953"
             ],
             [
              0.7777777777777778,
              "#fb9f3a"
             ],
             [
              0.8888888888888888,
              "#fdca26"
             ],
             [
              1,
              "#f0f921"
             ]
            ],
            "type": "heatmapgl"
           }
          ],
          "histogram": [
           {
            "marker": {
             "pattern": {
              "fillmode": "overlay",
              "size": 10,
              "solidity": 0.2
             }
            },
            "type": "histogram"
           }
          ],
          "histogram2d": [
           {
            "colorbar": {
             "outlinewidth": 0,
             "ticks": ""
            },
            "colorscale": [
             [
              0,
              "#0d0887"
             ],
             [
              0.1111111111111111,
              "#46039f"
             ],
             [
              0.2222222222222222,
              "#7201a8"
             ],
             [
              0.3333333333333333,
              "#9c179e"
             ],
             [
              0.4444444444444444,
              "#bd3786"
             ],
             [
              0.5555555555555556,
              "#d8576b"
             ],
             [
              0.6666666666666666,
              "#ed7953"
             ],
             [
              0.7777777777777778,
              "#fb9f3a"
             ],
             [
              0.8888888888888888,
              "#fdca26"
             ],
             [
              1,
              "#f0f921"
             ]
            ],
            "type": "histogram2d"
           }
          ],
          "histogram2dcontour": [
           {
            "colorbar": {
             "outlinewidth": 0,
             "ticks": ""
            },
            "colorscale": [
             [
              0,
              "#0d0887"
             ],
             [
              0.1111111111111111,
              "#46039f"
             ],
             [
              0.2222222222222222,
              "#7201a8"
             ],
             [
              0.3333333333333333,
              "#9c179e"
             ],
             [
              0.4444444444444444,
              "#bd3786"
             ],
             [
              0.5555555555555556,
              "#d8576b"
             ],
             [
              0.6666666666666666,
              "#ed7953"
             ],
             [
              0.7777777777777778,
              "#fb9f3a"
             ],
             [
              0.8888888888888888,
              "#fdca26"
             ],
             [
              1,
              "#f0f921"
             ]
            ],
            "type": "histogram2dcontour"
           }
          ],
          "mesh3d": [
           {
            "colorbar": {
             "outlinewidth": 0,
             "ticks": ""
            },
            "type": "mesh3d"
           }
          ],
          "parcoords": [
           {
            "line": {
             "colorbar": {
              "outlinewidth": 0,
              "ticks": ""
             }
            },
            "type": "parcoords"
           }
          ],
          "pie": [
           {
            "automargin": true,
            "type": "pie"
           }
          ],
          "scatter": [
           {
            "fillpattern": {
             "fillmode": "overlay",
             "size": 10,
             "solidity": 0.2
            },
            "type": "scatter"
           }
          ],
          "scatter3d": [
           {
            "line": {
             "colorbar": {
              "outlinewidth": 0,
              "ticks": ""
             }
            },
            "marker": {
             "colorbar": {
              "outlinewidth": 0,
              "ticks": ""
             }
            },
            "type": "scatter3d"
           }
          ],
          "scattercarpet": [
           {
            "marker": {
             "colorbar": {
              "outlinewidth": 0,
              "ticks": ""
             }
            },
            "type": "scattercarpet"
           }
          ],
          "scattergeo": [
           {
            "marker": {
             "colorbar": {
              "outlinewidth": 0,
              "ticks": ""
             }
            },
            "type": "scattergeo"
           }
          ],
          "scattergl": [
           {
            "marker": {
             "colorbar": {
              "outlinewidth": 0,
              "ticks": ""
             }
            },
            "type": "scattergl"
           }
          ],
          "scattermapbox": [
           {
            "marker": {
             "colorbar": {
              "outlinewidth": 0,
              "ticks": ""
             }
            },
            "type": "scattermapbox"
           }
          ],
          "scatterpolar": [
           {
            "marker": {
             "colorbar": {
              "outlinewidth": 0,
              "ticks": ""
             }
            },
            "type": "scatterpolar"
           }
          ],
          "scatterpolargl": [
           {
            "marker": {
             "colorbar": {
              "outlinewidth": 0,
              "ticks": ""
             }
            },
            "type": "scatterpolargl"
           }
          ],
          "scatterternary": [
           {
            "marker": {
             "colorbar": {
              "outlinewidth": 0,
              "ticks": ""
             }
            },
            "type": "scatterternary"
           }
          ],
          "surface": [
           {
            "colorbar": {
             "outlinewidth": 0,
             "ticks": ""
            },
            "colorscale": [
             [
              0,
              "#0d0887"
             ],
             [
              0.1111111111111111,
              "#46039f"
             ],
             [
              0.2222222222222222,
              "#7201a8"
             ],
             [
              0.3333333333333333,
              "#9c179e"
             ],
             [
              0.4444444444444444,
              "#bd3786"
             ],
             [
              0.5555555555555556,
              "#d8576b"
             ],
             [
              0.6666666666666666,
              "#ed7953"
             ],
             [
              0.7777777777777778,
              "#fb9f3a"
             ],
             [
              0.8888888888888888,
              "#fdca26"
             ],
             [
              1,
              "#f0f921"
             ]
            ],
            "type": "surface"
           }
          ],
          "table": [
           {
            "cells": {
             "fill": {
              "color": "#EBF0F8"
             },
             "line": {
              "color": "white"
             }
            },
            "header": {
             "fill": {
              "color": "#C8D4E3"
             },
             "line": {
              "color": "white"
             }
            },
            "type": "table"
           }
          ]
         },
         "layout": {
          "annotationdefaults": {
           "arrowcolor": "#2a3f5f",
           "arrowhead": 0,
           "arrowwidth": 1
          },
          "autotypenumbers": "strict",
          "coloraxis": {
           "colorbar": {
            "outlinewidth": 0,
            "ticks": ""
           }
          },
          "colorscale": {
           "diverging": [
            [
             0,
             "#8e0152"
            ],
            [
             0.1,
             "#c51b7d"
            ],
            [
             0.2,
             "#de77ae"
            ],
            [
             0.3,
             "#f1b6da"
            ],
            [
             0.4,
             "#fde0ef"
            ],
            [
             0.5,
             "#f7f7f7"
            ],
            [
             0.6,
             "#e6f5d0"
            ],
            [
             0.7,
             "#b8e186"
            ],
            [
             0.8,
             "#7fbc41"
            ],
            [
             0.9,
             "#4d9221"
            ],
            [
             1,
             "#276419"
            ]
           ],
           "sequential": [
            [
             0,
             "#0d0887"
            ],
            [
             0.1111111111111111,
             "#46039f"
            ],
            [
             0.2222222222222222,
             "#7201a8"
            ],
            [
             0.3333333333333333,
             "#9c179e"
            ],
            [
             0.4444444444444444,
             "#bd3786"
            ],
            [
             0.5555555555555556,
             "#d8576b"
            ],
            [
             0.6666666666666666,
             "#ed7953"
            ],
            [
             0.7777777777777778,
             "#fb9f3a"
            ],
            [
             0.8888888888888888,
             "#fdca26"
            ],
            [
             1,
             "#f0f921"
            ]
           ],
           "sequentialminus": [
            [
             0,
             "#0d0887"
            ],
            [
             0.1111111111111111,
             "#46039f"
            ],
            [
             0.2222222222222222,
             "#7201a8"
            ],
            [
             0.3333333333333333,
             "#9c179e"
            ],
            [
             0.4444444444444444,
             "#bd3786"
            ],
            [
             0.5555555555555556,
             "#d8576b"
            ],
            [
             0.6666666666666666,
             "#ed7953"
            ],
            [
             0.7777777777777778,
             "#fb9f3a"
            ],
            [
             0.8888888888888888,
             "#fdca26"
            ],
            [
             1,
             "#f0f921"
            ]
           ]
          },
          "colorway": [
           "#636efa",
           "#EF553B",
           "#00cc96",
           "#ab63fa",
           "#FFA15A",
           "#19d3f3",
           "#FF6692",
           "#B6E880",
           "#FF97FF",
           "#FECB52"
          ],
          "font": {
           "color": "#2a3f5f"
          },
          "geo": {
           "bgcolor": "white",
           "lakecolor": "white",
           "landcolor": "#E5ECF6",
           "showlakes": true,
           "showland": true,
           "subunitcolor": "white"
          },
          "hoverlabel": {
           "align": "left"
          },
          "hovermode": "closest",
          "mapbox": {
           "style": "light"
          },
          "paper_bgcolor": "white",
          "plot_bgcolor": "#E5ECF6",
          "polar": {
           "angularaxis": {
            "gridcolor": "white",
            "linecolor": "white",
            "ticks": ""
           },
           "bgcolor": "#E5ECF6",
           "radialaxis": {
            "gridcolor": "white",
            "linecolor": "white",
            "ticks": ""
           }
          },
          "scene": {
           "xaxis": {
            "backgroundcolor": "#E5ECF6",
            "gridcolor": "white",
            "gridwidth": 2,
            "linecolor": "white",
            "showbackground": true,
            "ticks": "",
            "zerolinecolor": "white"
           },
           "yaxis": {
            "backgroundcolor": "#E5ECF6",
            "gridcolor": "white",
            "gridwidth": 2,
            "linecolor": "white",
            "showbackground": true,
            "ticks": "",
            "zerolinecolor": "white"
           },
           "zaxis": {
            "backgroundcolor": "#E5ECF6",
            "gridcolor": "white",
            "gridwidth": 2,
            "linecolor": "white",
            "showbackground": true,
            "ticks": "",
            "zerolinecolor": "white"
           }
          },
          "shapedefaults": {
           "line": {
            "color": "#2a3f5f"
           }
          },
          "ternary": {
           "aaxis": {
            "gridcolor": "white",
            "linecolor": "white",
            "ticks": ""
           },
           "baxis": {
            "gridcolor": "white",
            "linecolor": "white",
            "ticks": ""
           },
           "bgcolor": "#E5ECF6",
           "caxis": {
            "gridcolor": "white",
            "linecolor": "white",
            "ticks": ""
           }
          },
          "title": {
           "x": 0.05
          },
          "xaxis": {
           "automargin": true,
           "gridcolor": "white",
           "linecolor": "white",
           "ticks": "",
           "title": {
            "standoff": 15
           },
           "zerolinecolor": "white",
           "zerolinewidth": 2
          },
          "yaxis": {
           "automargin": true,
           "gridcolor": "white",
           "linecolor": "white",
           "ticks": "",
           "title": {
            "standoff": 15
           },
           "zerolinecolor": "white",
           "zerolinewidth": 2
          }
         }
        },
        "width": 800
       }
      }
     },
     "metadata": {},
     "output_type": "display_data"
    }
   ],
   "source": [
    "import plotly.graph_objects as go\n",
    "fig = go.Figure(data=[go.Scatter3d(x=x_ax, y=y_ax, z=z_ax,\n",
    "                                   mode='markers',showlegend = False,  marker=dict(\n",
    "        size=2,\n",
    "               # set color to an array/list of desired values\n",
    "        opacity=0.8\n",
    "    )), go.Scatter3d(\n",
    "        x=[center[0][0]],\n",
    "        y=[center[0][1]],\n",
    "        z=[0],\n",
    "        mode='markers',\n",
    "        line=dict(\n",
    "            color='red',\n",
    "            width=2\n",
    "        ),name = 'Center'\n",
    "    )])\n",
    "fig.update_layout(\n",
    "        margin=dict(\n",
    "            l=0,                    # Set left margin to 0\n",
    "            r=0,                    # Set right margin to 0\n",
    "            b=0,                    # Set bottom margin to 0\n",
    "            t=0                    # Set top margin to 40\n",
    "        ),\n",
    "        width=800,                  # Set figure width to 800\n",
    "        height=600 )\n",
    "fig.show()"
   ]
  },
  {
   "cell_type": "code",
   "execution_count": 12,
   "metadata": {},
   "outputs": [
    {
     "name": "stdout",
     "output_type": "stream",
     "text": [
      "0.5143967460913015\n"
     ]
    },
    {
     "ename": "KeyboardInterrupt",
     "evalue": "",
     "output_type": "error",
     "traceback": [
      "\u001b[0;31m---------------------------------------------------------------------------\u001b[0m",
      "\u001b[0;31mKeyboardInterrupt\u001b[0m                         Traceback (most recent call last)",
      "Cell \u001b[0;32mIn[12], line 9\u001b[0m\n\u001b[1;32m      6\u001b[0m samples \u001b[39m=\u001b[39m []\n\u001b[1;32m      7\u001b[0m \u001b[39mfor\u001b[39;00m i \u001b[39min\u001b[39;00m \u001b[39mrange\u001b[39m(\u001b[39m100000\u001b[39m):\n\u001b[0;32m----> 9\u001b[0m     samples\u001b[39m.\u001b[39mappend(\u001b[39mtuple\u001b[39m(s\u001b[39m.\u001b[39;49msample()))\n\u001b[1;32m     11\u001b[0m us \u001b[39m=\u001b[39m \u001b[39mset\u001b[39m(samples)\n\u001b[1;32m     12\u001b[0m unis \u001b[39m=\u001b[39m {}\n",
      "File \u001b[0;32m~/Library/CloudStorage/Dropbox/crypto/Lattice/lattice_code/src/sample_lattice.py:59\u001b[0m, in \u001b[0;36mSampleLattice.sample\u001b[0;34m(self)\u001b[0m\n\u001b[1;32m     56\u001b[0m t \u001b[39m=\u001b[39m decompose(\u001b[39mself\u001b[39m\u001b[39m.\u001b[39mdim, \u001b[39mself\u001b[39m\u001b[39m.\u001b[39morth_basis, \u001b[39mself\u001b[39m\u001b[39m.\u001b[39mc)\n\u001b[1;32m     58\u001b[0m \u001b[39mfor\u001b[39;00m i \u001b[39min\u001b[39;00m \u001b[39mrange\u001b[39m(\u001b[39mself\u001b[39m\u001b[39m.\u001b[39mdim \u001b[39m-\u001b[39m \u001b[39m1\u001b[39m, \u001b[39m-\u001b[39m\u001b[39m1\u001b[39m, \u001b[39m-\u001b[39m\u001b[39m1\u001b[39m):\n\u001b[0;32m---> 59\u001b[0m \tz[i] \u001b[39m=\u001b[39m DiscreteGaussian(sigma \u001b[39m=\u001b[39;49m \u001b[39mself\u001b[39;49m\u001b[39m.\u001b[39;49msigma\u001b[39m/\u001b[39;49m\u001b[39mself\u001b[39;49m\u001b[39m.\u001b[39;49mri[i], tao \u001b[39m=\u001b[39;49m \u001b[39mself\u001b[39;49m\u001b[39m.\u001b[39;49mtao, center \u001b[39m=\u001b[39;49m t[\u001b[39m0\u001b[39;49m][i])\u001b[39m.\u001b[39;49msample(\u001b[39m1\u001b[39;49m)[\u001b[39m0\u001b[39m]  \u001b[39m## t is ndarray = [[t_1, t_2, ...]], #sample returns a list so first item\u001b[39;00m\n\u001b[1;32m     60\u001b[0m \tv \u001b[39m=\u001b[39m v \u001b[39m+\u001b[39m z[i] \u001b[39m*\u001b[39m \u001b[39mself\u001b[39m\u001b[39m.\u001b[39mbasis[i]\n\u001b[1;32m     61\u001b[0m \tt \u001b[39m=\u001b[39m t \u001b[39m-\u001b[39m z[i]\u001b[39m*\u001b[39m\u001b[39mself\u001b[39m\u001b[39m.\u001b[39mmu[:,i]\n",
      "File \u001b[0;32m~/Library/CloudStorage/Dropbox/crypto/Lattice/lattice_code/src/sampling.py:53\u001b[0m, in \u001b[0;36mDiscreteGaussian.sample\u001b[0;34m(self, n)\u001b[0m\n\u001b[1;32m     51\u001b[0m \u001b[39mself\u001b[39m\u001b[39m.\u001b[39mcounter \u001b[39m=\u001b[39m \u001b[39m0\u001b[39m\n\u001b[1;32m     52\u001b[0m \u001b[39mwhile\u001b[39;00m \u001b[39mlen\u001b[39m(vec) \u001b[39m!=\u001b[39m n:\n\u001b[0;32m---> 53\u001b[0m \tx \u001b[39m=\u001b[39m \u001b[39mself\u001b[39;49m\u001b[39m.\u001b[39;49m_rejectionSampling()\n\u001b[1;32m     54\u001b[0m \t\u001b[39mself\u001b[39m\u001b[39m.\u001b[39mcounter \u001b[39m+\u001b[39m\u001b[39m=\u001b[39m \u001b[39m1\u001b[39m\n\u001b[1;32m     55\u001b[0m \t\u001b[39mif\u001b[39;00m x\u001b[39m!=\u001b[39m \u001b[39mNone\u001b[39;00m:\n",
      "File \u001b[0;32m~/Library/CloudStorage/Dropbox/crypto/Lattice/lattice_code/src/sampling.py:41\u001b[0m, in \u001b[0;36mDiscreteGaussian._rejectionSampling\u001b[0;34m(self)\u001b[0m\n\u001b[1;32m     39\u001b[0m x_min\t\t\u001b[39m=\u001b[39m math\u001b[39m.\u001b[39mfloor(\u001b[39mself\u001b[39m\u001b[39m.\u001b[39mt \u001b[39m-\u001b[39m \u001b[39mself\u001b[39m\u001b[39m.\u001b[39mtao \u001b[39m*\u001b[39m \u001b[39mself\u001b[39m\u001b[39m.\u001b[39msigma)\n\u001b[1;32m     40\u001b[0m x:\u001b[39mint\u001b[39m\t\t\u001b[39m=\u001b[39m random\u001b[39m.\u001b[39mrandint(x_min, x_max)\n\u001b[0;32m---> 41\u001b[0m p:\u001b[39mfloat\u001b[39m\t\t\u001b[39m=\u001b[39m math\u001b[39m.\u001b[39mexp(h \u001b[39m*\u001b[39m (x \u001b[39m-\u001b[39;49m \u001b[39mself\u001b[39;49m\u001b[39m.\u001b[39;49mt)\u001b[39m*\u001b[39m\u001b[39m*\u001b[39m\u001b[39m2\u001b[39m)  \u001b[39m##fpm\u001b[39;00m\n\u001b[1;32m     42\u001b[0m r:\u001b[39mfloat\u001b[39m\t\t\u001b[39m=\u001b[39m random\u001b[39m.\u001b[39mrandom()  \u001b[39m##fpm\u001b[39;00m\n\u001b[1;32m     43\u001b[0m \u001b[39mif\u001b[39;00m r \u001b[39m<\u001b[39m\u001b[39m=\u001b[39m p:\n",
      "\u001b[0;31mKeyboardInterrupt\u001b[0m: "
     ]
    }
   ],
   "source": [
    "from sample_lattice import *\n",
    "basis = generate_lattice_points(2, 256)\n",
    "print(Lattice.had_ratio(basis))\n",
    "center =  np.array([[5,5]])\n",
    "s = SampleLattice(dim=2, basis = basis, c=center, sigma=5, tao=3)\n",
    "samples = []\n",
    "for i in range(100000):\n",
    "\n",
    "    samples.append(tuple(s.sample()))\n",
    "\n",
    "us = set(samples)\n",
    "unis = {}\n",
    "for s in us:\n",
    "    unis[tuple(s)] = 0\n",
    "\n",
    "for sam in samples:\n",
    "    unis[tuple(sam)] = unis[tuple(sam)] + 1\n",
    "\n",
    "x_ax = []\n",
    "y_ax = []\n",
    "z_ax = list(unis.values())\n",
    "\n",
    "for i in unis.keys():\n",
    "    x_ax.append(i[0])\n",
    "    y_ax.append(i[1]) "
   ]
  },
  {
   "cell_type": "code",
   "execution_count": 10,
   "metadata": {},
   "outputs": [
    {
     "data": {
      "application/vnd.plotly.v1+json": {
       "config": {
        "plotlyServerURL": "https://plot.ly"
       },
       "data": [
        {
         "marker": {
          "opacity": 0.8,
          "size": 2
         },
         "mode": "markers",
         "showlegend": false,
         "type": "scatter3d",
         "x": [
          0
         ],
         "y": [
          0
         ],
         "z": [
          100000
         ]
        },
        {
         "line": {
          "color": "red",
          "width": 2
         },
         "mode": "markers",
         "name": "Center",
         "type": "scatter3d",
         "x": [
          5
         ],
         "y": [
          5
         ],
         "z": [
          0
         ]
        }
       ],
       "layout": {
        "height": 600,
        "margin": {
         "b": 0,
         "l": 0,
         "r": 0,
         "t": 0
        },
        "template": {
         "data": {
          "bar": [
           {
            "error_x": {
             "color": "#2a3f5f"
            },
            "error_y": {
             "color": "#2a3f5f"
            },
            "marker": {
             "line": {
              "color": "#E5ECF6",
              "width": 0.5
             },
             "pattern": {
              "fillmode": "overlay",
              "size": 10,
              "solidity": 0.2
             }
            },
            "type": "bar"
           }
          ],
          "barpolar": [
           {
            "marker": {
             "line": {
              "color": "#E5ECF6",
              "width": 0.5
             },
             "pattern": {
              "fillmode": "overlay",
              "size": 10,
              "solidity": 0.2
             }
            },
            "type": "barpolar"
           }
          ],
          "carpet": [
           {
            "aaxis": {
             "endlinecolor": "#2a3f5f",
             "gridcolor": "white",
             "linecolor": "white",
             "minorgridcolor": "white",
             "startlinecolor": "#2a3f5f"
            },
            "baxis": {
             "endlinecolor": "#2a3f5f",
             "gridcolor": "white",
             "linecolor": "white",
             "minorgridcolor": "white",
             "startlinecolor": "#2a3f5f"
            },
            "type": "carpet"
           }
          ],
          "choropleth": [
           {
            "colorbar": {
             "outlinewidth": 0,
             "ticks": ""
            },
            "type": "choropleth"
           }
          ],
          "contour": [
           {
            "colorbar": {
             "outlinewidth": 0,
             "ticks": ""
            },
            "colorscale": [
             [
              0,
              "#0d0887"
             ],
             [
              0.1111111111111111,
              "#46039f"
             ],
             [
              0.2222222222222222,
              "#7201a8"
             ],
             [
              0.3333333333333333,
              "#9c179e"
             ],
             [
              0.4444444444444444,
              "#bd3786"
             ],
             [
              0.5555555555555556,
              "#d8576b"
             ],
             [
              0.6666666666666666,
              "#ed7953"
             ],
             [
              0.7777777777777778,
              "#fb9f3a"
             ],
             [
              0.8888888888888888,
              "#fdca26"
             ],
             [
              1,
              "#f0f921"
             ]
            ],
            "type": "contour"
           }
          ],
          "contourcarpet": [
           {
            "colorbar": {
             "outlinewidth": 0,
             "ticks": ""
            },
            "type": "contourcarpet"
           }
          ],
          "heatmap": [
           {
            "colorbar": {
             "outlinewidth": 0,
             "ticks": ""
            },
            "colorscale": [
             [
              0,
              "#0d0887"
             ],
             [
              0.1111111111111111,
              "#46039f"
             ],
             [
              0.2222222222222222,
              "#7201a8"
             ],
             [
              0.3333333333333333,
              "#9c179e"
             ],
             [
              0.4444444444444444,
              "#bd3786"
             ],
             [
              0.5555555555555556,
              "#d8576b"
             ],
             [
              0.6666666666666666,
              "#ed7953"
             ],
             [
              0.7777777777777778,
              "#fb9f3a"
             ],
             [
              0.8888888888888888,
              "#fdca26"
             ],
             [
              1,
              "#f0f921"
             ]
            ],
            "type": "heatmap"
           }
          ],
          "heatmapgl": [
           {
            "colorbar": {
             "outlinewidth": 0,
             "ticks": ""
            },
            "colorscale": [
             [
              0,
              "#0d0887"
             ],
             [
              0.1111111111111111,
              "#46039f"
             ],
             [
              0.2222222222222222,
              "#7201a8"
             ],
             [
              0.3333333333333333,
              "#9c179e"
             ],
             [
              0.4444444444444444,
              "#bd3786"
             ],
             [
              0.5555555555555556,
              "#d8576b"
             ],
             [
              0.6666666666666666,
              "#ed7953"
             ],
             [
              0.7777777777777778,
              "#fb9f3a"
             ],
             [
              0.8888888888888888,
              "#fdca26"
             ],
             [
              1,
              "#f0f921"
             ]
            ],
            "type": "heatmapgl"
           }
          ],
          "histogram": [
           {
            "marker": {
             "pattern": {
              "fillmode": "overlay",
              "size": 10,
              "solidity": 0.2
             }
            },
            "type": "histogram"
           }
          ],
          "histogram2d": [
           {
            "colorbar": {
             "outlinewidth": 0,
             "ticks": ""
            },
            "colorscale": [
             [
              0,
              "#0d0887"
             ],
             [
              0.1111111111111111,
              "#46039f"
             ],
             [
              0.2222222222222222,
              "#7201a8"
             ],
             [
              0.3333333333333333,
              "#9c179e"
             ],
             [
              0.4444444444444444,
              "#bd3786"
             ],
             [
              0.5555555555555556,
              "#d8576b"
             ],
             [
              0.6666666666666666,
              "#ed7953"
             ],
             [
              0.7777777777777778,
              "#fb9f3a"
             ],
             [
              0.8888888888888888,
              "#fdca26"
             ],
             [
              1,
              "#f0f921"
             ]
            ],
            "type": "histogram2d"
           }
          ],
          "histogram2dcontour": [
           {
            "colorbar": {
             "outlinewidth": 0,
             "ticks": ""
            },
            "colorscale": [
             [
              0,
              "#0d0887"
             ],
             [
              0.1111111111111111,
              "#46039f"
             ],
             [
              0.2222222222222222,
              "#7201a8"
             ],
             [
              0.3333333333333333,
              "#9c179e"
             ],
             [
              0.4444444444444444,
              "#bd3786"
             ],
             [
              0.5555555555555556,
              "#d8576b"
             ],
             [
              0.6666666666666666,
              "#ed7953"
             ],
             [
              0.7777777777777778,
              "#fb9f3a"
             ],
             [
              0.8888888888888888,
              "#fdca26"
             ],
             [
              1,
              "#f0f921"
             ]
            ],
            "type": "histogram2dcontour"
           }
          ],
          "mesh3d": [
           {
            "colorbar": {
             "outlinewidth": 0,
             "ticks": ""
            },
            "type": "mesh3d"
           }
          ],
          "parcoords": [
           {
            "line": {
             "colorbar": {
              "outlinewidth": 0,
              "ticks": ""
             }
            },
            "type": "parcoords"
           }
          ],
          "pie": [
           {
            "automargin": true,
            "type": "pie"
           }
          ],
          "scatter": [
           {
            "fillpattern": {
             "fillmode": "overlay",
             "size": 10,
             "solidity": 0.2
            },
            "type": "scatter"
           }
          ],
          "scatter3d": [
           {
            "line": {
             "colorbar": {
              "outlinewidth": 0,
              "ticks": ""
             }
            },
            "marker": {
             "colorbar": {
              "outlinewidth": 0,
              "ticks": ""
             }
            },
            "type": "scatter3d"
           }
          ],
          "scattercarpet": [
           {
            "marker": {
             "colorbar": {
              "outlinewidth": 0,
              "ticks": ""
             }
            },
            "type": "scattercarpet"
           }
          ],
          "scattergeo": [
           {
            "marker": {
             "colorbar": {
              "outlinewidth": 0,
              "ticks": ""
             }
            },
            "type": "scattergeo"
           }
          ],
          "scattergl": [
           {
            "marker": {
             "colorbar": {
              "outlinewidth": 0,
              "ticks": ""
             }
            },
            "type": "scattergl"
           }
          ],
          "scattermapbox": [
           {
            "marker": {
             "colorbar": {
              "outlinewidth": 0,
              "ticks": ""
             }
            },
            "type": "scattermapbox"
           }
          ],
          "scatterpolar": [
           {
            "marker": {
             "colorbar": {
              "outlinewidth": 0,
              "ticks": ""
             }
            },
            "type": "scatterpolar"
           }
          ],
          "scatterpolargl": [
           {
            "marker": {
             "colorbar": {
              "outlinewidth": 0,
              "ticks": ""
             }
            },
            "type": "scatterpolargl"
           }
          ],
          "scatterternary": [
           {
            "marker": {
             "colorbar": {
              "outlinewidth": 0,
              "ticks": ""
             }
            },
            "type": "scatterternary"
           }
          ],
          "surface": [
           {
            "colorbar": {
             "outlinewidth": 0,
             "ticks": ""
            },
            "colorscale": [
             [
              0,
              "#0d0887"
             ],
             [
              0.1111111111111111,
              "#46039f"
             ],
             [
              0.2222222222222222,
              "#7201a8"
             ],
             [
              0.3333333333333333,
              "#9c179e"
             ],
             [
              0.4444444444444444,
              "#bd3786"
             ],
             [
              0.5555555555555556,
              "#d8576b"
             ],
             [
              0.6666666666666666,
              "#ed7953"
             ],
             [
              0.7777777777777778,
              "#fb9f3a"
             ],
             [
              0.8888888888888888,
              "#fdca26"
             ],
             [
              1,
              "#f0f921"
             ]
            ],
            "type": "surface"
           }
          ],
          "table": [
           {
            "cells": {
             "fill": {
              "color": "#EBF0F8"
             },
             "line": {
              "color": "white"
             }
            },
            "header": {
             "fill": {
              "color": "#C8D4E3"
             },
             "line": {
              "color": "white"
             }
            },
            "type": "table"
           }
          ]
         },
         "layout": {
          "annotationdefaults": {
           "arrowcolor": "#2a3f5f",
           "arrowhead": 0,
           "arrowwidth": 1
          },
          "autotypenumbers": "strict",
          "coloraxis": {
           "colorbar": {
            "outlinewidth": 0,
            "ticks": ""
           }
          },
          "colorscale": {
           "diverging": [
            [
             0,
             "#8e0152"
            ],
            [
             0.1,
             "#c51b7d"
            ],
            [
             0.2,
             "#de77ae"
            ],
            [
             0.3,
             "#f1b6da"
            ],
            [
             0.4,
             "#fde0ef"
            ],
            [
             0.5,
             "#f7f7f7"
            ],
            [
             0.6,
             "#e6f5d0"
            ],
            [
             0.7,
             "#b8e186"
            ],
            [
             0.8,
             "#7fbc41"
            ],
            [
             0.9,
             "#4d9221"
            ],
            [
             1,
             "#276419"
            ]
           ],
           "sequential": [
            [
             0,
             "#0d0887"
            ],
            [
             0.1111111111111111,
             "#46039f"
            ],
            [
             0.2222222222222222,
             "#7201a8"
            ],
            [
             0.3333333333333333,
             "#9c179e"
            ],
            [
             0.4444444444444444,
             "#bd3786"
            ],
            [
             0.5555555555555556,
             "#d8576b"
            ],
            [
             0.6666666666666666,
             "#ed7953"
            ],
            [
             0.7777777777777778,
             "#fb9f3a"
            ],
            [
             0.8888888888888888,
             "#fdca26"
            ],
            [
             1,
             "#f0f921"
            ]
           ],
           "sequentialminus": [
            [
             0,
             "#0d0887"
            ],
            [
             0.1111111111111111,
             "#46039f"
            ],
            [
             0.2222222222222222,
             "#7201a8"
            ],
            [
             0.3333333333333333,
             "#9c179e"
            ],
            [
             0.4444444444444444,
             "#bd3786"
            ],
            [
             0.5555555555555556,
             "#d8576b"
            ],
            [
             0.6666666666666666,
             "#ed7953"
            ],
            [
             0.7777777777777778,
             "#fb9f3a"
            ],
            [
             0.8888888888888888,
             "#fdca26"
            ],
            [
             1,
             "#f0f921"
            ]
           ]
          },
          "colorway": [
           "#636efa",
           "#EF553B",
           "#00cc96",
           "#ab63fa",
           "#FFA15A",
           "#19d3f3",
           "#FF6692",
           "#B6E880",
           "#FF97FF",
           "#FECB52"
          ],
          "font": {
           "color": "#2a3f5f"
          },
          "geo": {
           "bgcolor": "white",
           "lakecolor": "white",
           "landcolor": "#E5ECF6",
           "showlakes": true,
           "showland": true,
           "subunitcolor": "white"
          },
          "hoverlabel": {
           "align": "left"
          },
          "hovermode": "closest",
          "mapbox": {
           "style": "light"
          },
          "paper_bgcolor": "white",
          "plot_bgcolor": "#E5ECF6",
          "polar": {
           "angularaxis": {
            "gridcolor": "white",
            "linecolor": "white",
            "ticks": ""
           },
           "bgcolor": "#E5ECF6",
           "radialaxis": {
            "gridcolor": "white",
            "linecolor": "white",
            "ticks": ""
           }
          },
          "scene": {
           "xaxis": {
            "backgroundcolor": "#E5ECF6",
            "gridcolor": "white",
            "gridwidth": 2,
            "linecolor": "white",
            "showbackground": true,
            "ticks": "",
            "zerolinecolor": "white"
           },
           "yaxis": {
            "backgroundcolor": "#E5ECF6",
            "gridcolor": "white",
            "gridwidth": 2,
            "linecolor": "white",
            "showbackground": true,
            "ticks": "",
            "zerolinecolor": "white"
           },
           "zaxis": {
            "backgroundcolor": "#E5ECF6",
            "gridcolor": "white",
            "gridwidth": 2,
            "linecolor": "white",
            "showbackground": true,
            "ticks": "",
            "zerolinecolor": "white"
           }
          },
          "shapedefaults": {
           "line": {
            "color": "#2a3f5f"
           }
          },
          "ternary": {
           "aaxis": {
            "gridcolor": "white",
            "linecolor": "white",
            "ticks": ""
           },
           "baxis": {
            "gridcolor": "white",
            "linecolor": "white",
            "ticks": ""
           },
           "bgcolor": "#E5ECF6",
           "caxis": {
            "gridcolor": "white",
            "linecolor": "white",
            "ticks": ""
           }
          },
          "title": {
           "x": 0.05
          },
          "xaxis": {
           "automargin": true,
           "gridcolor": "white",
           "linecolor": "white",
           "ticks": "",
           "title": {
            "standoff": 15
           },
           "zerolinecolor": "white",
           "zerolinewidth": 2
          },
          "yaxis": {
           "automargin": true,
           "gridcolor": "white",
           "linecolor": "white",
           "ticks": "",
           "title": {
            "standoff": 15
           },
           "zerolinecolor": "white",
           "zerolinewidth": 2
          }
         }
        },
        "width": 800
       }
      }
     },
     "metadata": {},
     "output_type": "display_data"
    }
   ],
   "source": [
    "import plotly.graph_objects as go\n",
    "fig = go.Figure(data=[go.Scatter3d(x=x_ax, y=y_ax, z=z_ax,\n",
    "                                   mode='markers',showlegend = False,  marker=dict(\n",
    "        size=2,\n",
    "               # set color to an array/list of desired values\n",
    "        opacity=0.8\n",
    "    )), go.Scatter3d(\n",
    "        x=[center[0][0]],\n",
    "        y=[center[0][1]],\n",
    "        z=[0],\n",
    "        mode='markers',\n",
    "        line=dict(\n",
    "            color='red',\n",
    "            width=2\n",
    "        ),name = 'Center'\n",
    "    )])\n",
    "fig.update_layout(\n",
    "        margin=dict(\n",
    "            l=0,                    # Set left margin to 0\n",
    "            r=0,                    # Set right margin to 0\n",
    "            b=0,                    # Set bottom margin to 0\n",
    "            t=0                    # Set top margin to 40\n",
    "        ),\n",
    "        width=800,                  # Set figure width to 800\n",
    "        height=600 )\n",
    "fig.show()"
   ]
  },
  {
   "cell_type": "code",
   "execution_count": null,
   "metadata": {},
   "outputs": [],
   "source": [
    "from sample_lattice import *\n",
    "s = SampleLattice(dim=3, basis = np.array([[0,0,1], [0,1,0], [1,0,0]]), c= np.array([[3,1,-1]]), sigma=5, tao=3)\n",
    "# s = SampleLattice(dim=3, basis = generate_lattice_points(3, 10), c= np.array([[3,1,-1]]), sigma=5, tao=3)\n",
    "\n",
    "samples = []\n",
    "for i in range(100000):\n",
    "    samples.append(tuple(s.sample()))\n",
    "\n",
    "true_count = 0\n",
    "false_count = 0\n",
    "for sam in samples:\n",
    "    ret = s.verify_point(sam)\n",
    "    if ret== True:\n",
    "        true_count += 1\n",
    "    else:\n",
    "        false_count += 1"
   ]
  },
  {
   "cell_type": "code",
   "execution_count": 3,
   "metadata": {},
   "outputs": [
    {
     "ename": "NotIndependentVectors",
     "evalue": "The basis vectors are not linearly independent. Try different vector or use generate_lattice_points",
     "output_type": "error",
     "traceback": [
      "\u001b[0;31m---------------------------------------------------------------------------\u001b[0m",
      "\u001b[0;31mNotIndependentVectors\u001b[0m                     Traceback (most recent call last)",
      "Cell \u001b[0;32mIn[3], line 7\u001b[0m\n\u001b[1;32m      4\u001b[0m \u001b[39mfor\u001b[39;00m i \u001b[39min\u001b[39;00m \u001b[39mrange\u001b[39m(\u001b[39m100\u001b[39m):\n\u001b[1;32m      5\u001b[0m \tbasis \u001b[39m=\u001b[39m generate_lattice_points(\u001b[39m3\u001b[39m, \u001b[39m10\u001b[39m)\n\u001b[0;32m----> 7\u001b[0m \ts \u001b[39m=\u001b[39m SampleLattice(dim\u001b[39m=\u001b[39;49m\u001b[39m3\u001b[39;49m, basis \u001b[39m=\u001b[39;49m basis,  c\u001b[39m=\u001b[39;49m np\u001b[39m.\u001b[39;49marray([[\u001b[39m3\u001b[39;49m,\u001b[39m1\u001b[39;49m,\u001b[39m-\u001b[39;49m\u001b[39m1\u001b[39;49m]]), sigma\u001b[39m=\u001b[39;49m\u001b[39m5\u001b[39;49m, tao\u001b[39m=\u001b[39;49m\u001b[39m3\u001b[39;49m)\n\u001b[1;32m      9\u001b[0m \tsamples \u001b[39m=\u001b[39m []\n\u001b[1;32m     10\u001b[0m \t\u001b[39mfor\u001b[39;00m i \u001b[39min\u001b[39;00m \u001b[39mrange\u001b[39m(\u001b[39m100000\u001b[39m):\n",
      "File \u001b[0;32m~/Library/CloudStorage/Dropbox/crypto/Lattice/lattice_code/src/sample_lattice.py:51\u001b[0m, in \u001b[0;36mSampleLattice.__init__\u001b[0;34m(self, dim, basis, c, sigma, tao)\u001b[0m\n\u001b[1;32m     48\u001b[0m \u001b[39mself\u001b[39m\u001b[39m.\u001b[39mtao \u001b[39m=\u001b[39m tao\n\u001b[1;32m     50\u001b[0m \u001b[39mif\u001b[39;00m np\u001b[39m.\u001b[39mlinalg\u001b[39m.\u001b[39mmatrix_rank(\u001b[39mself\u001b[39m\u001b[39m.\u001b[39mbasis) \u001b[39m!=\u001b[39m \u001b[39mself\u001b[39m\u001b[39m.\u001b[39mdim: \n\u001b[0;32m---> 51\u001b[0m \t\u001b[39mraise\u001b[39;00m NotIndependentVectors(\u001b[39m\"\u001b[39m\u001b[39mThe basis vectors are not linearly independent. Try different vector or use generate_lattice_points\u001b[39m\u001b[39m\"\u001b[39m)\n",
      "\u001b[0;31mNotIndependentVectors\u001b[0m: The basis vectors are not linearly independent. Try different vector or use generate_lattice_points"
     ]
    }
   ],
   "source": [
    "from sample_lattice import *\n",
    "# s = SampleLattice(dim=3, basis = np.array([[0,0,1], [0,1,0], [1,0,0]]), c= np.array([[3,1,-1]]), sigma=5, tao=3)\n",
    "res = []\n",
    "for i in range(100):\n",
    "\tbasis = generate_lattice_points(3, 10)\n",
    "\t\n",
    "\ts = SampleLattice(dim=3, basis = basis,  c= np.array([[3,1,-1]]), sigma=5, tao=3)\n",
    "\n",
    "\tsamples = []\n",
    "\tfor i in range(100000):\n",
    "\t\tsamples.append(tuple(s.sample()))\n",
    "\n",
    "\ttrue_count = 0\n",
    "\tfalse_count = 0\n",
    "\tfor sam in samples:\n",
    "\t\tret = s.verify_point(sam)\n",
    "\t\tif ret== True:\n",
    "\t\t\ttrue_count += 1\n",
    "\t\telse:\n",
    "\t\t\tfalse_count += 1\n",
    "\tres.append([Lattice.had_ratio(basis), true_count])"
   ]
  },
  {
   "cell_type": "code",
   "execution_count": 5,
   "metadata": {},
   "outputs": [
    {
     "data": {
      "image/png": "[encoded data removed]",
      "text/plain": [
       "<Figure size 640x480 with 1 Axes>"
      ]
     },
     "metadata": {},
     "output_type": "display_data"
    }
   ],
   "source": [
    "res = np.array(res)\n",
    "plt.scatter(x= res[:,0], y = res[:,1])\n",
    "plt.ylabel(\"No. of correct lattice points\")\n",
    "plt.xlabel(\"Hadamard Ratio\")\n",
    "plt.show()"
   ]
  },
  {
   "cell_type": "code",
   "execution_count": null,
   "metadata": {},
   "outputs": [],
   "source": []
  }
 ],
 "metadata": {
  "kernelspec": {
   "display_name": "Python 3",
   "language": "python",
   "name": "python3"
  },
  "language_info": {
   "codemirror_mode": {
    "name": "ipython",
    "version": 3
   },
   "file_extension": ".py",
   "mimetype": "text/x-python",
   "name": "python",
   "nbconvert_exporter": "python",
   "pygments_lexer": "ipython3",
   "version": "3.9.6"
  },
  "orig_nbformat": 4
 },
 "nbformat": 4,
 "nbformat_minor": 2
}
