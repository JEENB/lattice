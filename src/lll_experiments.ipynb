{
 "cells": [
  {
   "cell_type": "code",
   "execution_count": 7,
   "metadata": {},
   "outputs": [
    {
     "name": "stdout",
     "output_type": "stream",
     "text": [
      "Basis:\n",
      " [[-2663067070 -3320819544  3223219389]\n",
      " [  366247251 -2491054966  -565488074]\n",
      " [-1657728892 -2802437336  3280105686]]\n",
      "Hadamard Ratio:  0.5437493228622381\n",
      "Reduced Basis:\n",
      " [[ 1005338178   518382208    56886297]\n",
      " [ 1371585429 -1972672758  -508601777]\n",
      " [  352947464 -1765672920  3393878280]]\n",
      "Hadamard Ratio:  0.9858203531879796\n"
     ]
    },
    {
     "data": {
      "application/vnd.plotly.v1+json": {
       "config": {
        "plotlyServerURL": "https://plot.ly"
       },
       "data": [
        {
         "marker": {
          "color": "green",
          "opacity": 1,
          "size": 2
         },
         "mode": "markers",
         "showlegend": false,
         "type": "scatter3d",
         "x": [
          -2663067070,
          366247251,
          -1657728892,
          3954548711,
          2296819819,
          639090927,
          4320795962,
          2663067070,
          1005338178,
          4687043213,
          3029314321,
          1371585429,
          1291481641,
          -366247251,
          -2023976143,
          1657728892,
          0,
          -1657728892,
          2023976143,
          366247251,
          -1291481641,
          -1371585429,
          -3029314321,
          -4687043213,
          -1005338178,
          -2663067070,
          -4320795962,
          -639090927,
          -2296819819,
          -3954548711
         ],
         "y": [
          -3320819544,
          -2491054966,
          -2802437336,
          8614311846,
          5811874510,
          3009437174,
          6123256880,
          3320819544,
          518382208,
          3632201914,
          829764578,
          -1972672758,
          5293492302,
          2491054966,
          -311382370,
          2802437336,
          0,
          -2802437336,
          311382370,
          -2491054966,
          -5293492302,
          1972672758,
          -829764578,
          -3632201914,
          -518382208,
          -3320819544,
          -6123256880,
          -3009437174,
          -5811874510,
          -8614311846
         ],
         "z": [
          3223219389,
          -565488074,
          3280105686,
          -5937837001,
          -2657731315,
          622374371,
          -6503325075,
          -3223219389,
          56886297,
          -7068813149,
          -3788707463,
          -508601777,
          -2714617612,
          565488074,
          3845593760,
          -3280105686,
          0,
          3280105686,
          -3845593760,
          -565488074,
          2714617612,
          508601777,
          3788707463,
          7068813149,
          -56886297,
          3223219389,
          6503325075,
          -622374371,
          2657731315,
          5937837001
         ]
        },
        {
         "marker": {
          "color": "green",
          "opacity": 0.8,
          "size": 2
         },
         "mode": "markers",
         "showlegend": false,
         "type": "scatter3d",
         "x": [
          1005338178,
          1371585429,
          352947464,
          -2729871071,
          -2376923607,
          -2023976143,
          -1358285642,
          -1005338178,
          -652390714,
          13299787,
          366247251,
          719194715,
          -1724532893,
          -1371585429,
          -1018637965,
          -352947464,
          0,
          352947464,
          1018637965,
          1371585429,
          1724532893,
          -719194715,
          -366247251,
          -13299787,
          652390714,
          1005338178,
          1358285642,
          2023976143,
          2376923607,
          2729871071
         ],
         "y": [
          518382208,
          -1972672758,
          -1765672920,
          3219963470,
          1454290550,
          -311382370,
          1247290712,
          -518382208,
          -2284055128,
          -725382046,
          -2491054966,
          -4256727886,
          3738345678,
          1972672758,
          206999838,
          1765672920,
          0,
          -1765672920,
          -206999838,
          -1972672758,
          -3738345678,
          4256727886,
          2491054966,
          725382046,
          2284055128,
          518382208,
          -1247290712,
          311382370,
          -1454290550,
          -3219963470
         ],
         "z": [
          56886297,
          -508601777,
          3393878280,
          -2942162800,
          451715480,
          3845593760,
          -3450764577,
          -56886297,
          3336991983,
          -3959366354,
          -565488074,
          2828390206,
          -2885276503,
          508601777,
          3902480057,
          -3393878280,
          0,
          3393878280,
          -3902480057,
          -508601777,
          2885276503,
          -2828390206,
          565488074,
          3959366354,
          -3336991983,
          56886297,
          3450764577,
          -3845593760,
          -451715480,
          2942162800
         ]
        },
        {
         "line": {
          "color": "red",
          "width": 3
         },
         "mode": "lines",
         "name": "Initial Bases",
         "type": "scatter3d",
         "x": [
          0,
          -2663067070
         ],
         "y": [
          0,
          -3320819544
         ],
         "z": [
          0,
          3223219389
         ]
        },
        {
         "line": {
          "color": "red",
          "width": 3
         },
         "mode": "lines",
         "showlegend": false,
         "type": "scatter3d",
         "x": [
          0,
          -1657728892
         ],
         "y": [
          0,
          -2802437336
         ],
         "z": [
          0,
          3280105686
         ]
        },
        {
         "line": {
          "color": "blue",
          "width": 2
         },
         "mode": "lines",
         "name": "Reduced Bases",
         "type": "scatter3d",
         "x": [
          0,
          1005338178
         ],
         "y": [
          0,
          518382208
         ],
         "z": [
          0,
          56886297
         ]
        },
        {
         "line": {
          "color": "blue",
          "width": 2
         },
         "mode": "lines",
         "showlegend": false,
         "type": "scatter3d",
         "x": [
          0,
          1371585429
         ],
         "y": [
          0,
          -1972672758
         ],
         "z": [
          0,
          -508601777
         ]
        },
        {
         "line": {
          "color": "blue",
          "width": 2
         },
         "mode": "lines",
         "showlegend": false,
         "type": "scatter3d",
         "x": [
          0,
          352947464
         ],
         "y": [
          0,
          -1765672920
         ],
         "z": [
          0,
          3393878280
         ]
        },
        {
         "line": {
          "color": "red",
          "width": 3
         },
         "mode": "lines",
         "showlegend": false,
         "type": "scatter3d",
         "x": [
          0,
          366247251
         ],
         "y": [
          0,
          -2491054966
         ],
         "z": [
          0,
          -565488074
         ]
        }
       ],
       "layout": {
        "height": 600,
        "legend": {
         "font": {
          "size": 12
         },
         "title": {
          "text": "Legend"
         },
         "traceorder": "reversed",
         "x": 0.9,
         "y": 1.1
        },
        "margin": {
         "b": 0,
         "l": 0,
         "r": 0,
         "t": 0
        },
        "scene": {
         "xaxis": {
          "showgrid": true
         },
         "yaxis": {
          "showgrid": true
         },
         "zaxis": {
          "showgrid": true
         }
        },
        "template": {
         "data": {
          "bar": [
           {
            "error_x": {
             "color": "#2a3f5f"
            },
            "error_y": {
             "color": "#2a3f5f"
            },
            "marker": {
             "line": {
              "color": "#E5ECF6",
              "width": 0.5
             },
             "pattern": {
              "fillmode": "overlay",
              "size": 10,
              "solidity": 0.2
             }
            },
            "type": "bar"
           }
          ],
          "barpolar": [
           {
            "marker": {
             "line": {
              "color": "#E5ECF6",
              "width": 0.5
             },
             "pattern": {
              "fillmode": "overlay",
              "size": 10,
              "solidity": 0.2
             }
            },
            "type": "barpolar"
           }
          ],
          "carpet": [
           {
            "aaxis": {
             "endlinecolor": "#2a3f5f",
             "gridcolor": "white",
             "linecolor": "white",
             "minorgridcolor": "white",
             "startlinecolor": "#2a3f5f"
            },
            "baxis": {
             "endlinecolor": "#2a3f5f",
             "gridcolor": "white",
             "linecolor": "white",
             "minorgridcolor": "white",
             "startlinecolor": "#2a3f5f"
            },
            "type": "carpet"
           }
          ],
          "choropleth": [
           {
            "colorbar": {
             "outlinewidth": 0,
             "ticks": ""
            },
            "type": "choropleth"
           }
          ],
          "contour": [
           {
            "colorbar": {
             "outlinewidth": 0,
             "ticks": ""
            },
            "colorscale": [
             [
              0,
              "#0d0887"
             ],
             [
              0.1111111111111111,
              "#46039f"
             ],
             [
              0.2222222222222222,
              "#7201a8"
             ],
             [
              0.3333333333333333,
              "#9c179e"
             ],
             [
              0.4444444444444444,
              "#bd3786"
             ],
             [
              0.5555555555555556,
              "#d8576b"
             ],
             [
              0.6666666666666666,
              "#ed7953"
             ],
             [
              0.7777777777777778,
              "#fb9f3a"
             ],
             [
              0.8888888888888888,
              "#fdca26"
             ],
             [
              1,
              "#f0f921"
             ]
            ],
            "type": "contour"
           }
          ],
          "contourcarpet": [
           {
            "colorbar": {
             "outlinewidth": 0,
             "ticks": ""
            },
            "type": "contourcarpet"
           }
          ],
          "heatmap": [
           {
            "colorbar": {
             "outlinewidth": 0,
             "ticks": ""
            },
            "colorscale": [
             [
              0,
              "#0d0887"
             ],
             [
              0.1111111111111111,
              "#46039f"
             ],
             [
              0.2222222222222222,
              "#7201a8"
             ],
             [
              0.3333333333333333,
              "#9c179e"
             ],
             [
              0.4444444444444444,
              "#bd3786"
             ],
             [
              0.5555555555555556,
              "#d8576b"
             ],
             [
              0.6666666666666666,
              "#ed7953"
             ],
             [
              0.7777777777777778,
              "#fb9f3a"
             ],
             [
              0.8888888888888888,
              "#fdca26"
             ],
             [
              1,
              "#f0f921"
             ]
            ],
            "type": "heatmap"
           }
          ],
          "heatmapgl": [
           {
            "colorbar": {
             "outlinewidth": 0,
             "ticks": ""
            },
            "colorscale": [
             [
              0,
              "#0d0887"
             ],
             [
              0.1111111111111111,
              "#46039f"
             ],
             [
              0.2222222222222222,
              "#7201a8"
             ],
             [
              0.3333333333333333,
              "#9c179e"
             ],
             [
              0.4444444444444444,
              "#bd3786"
             ],
             [
              0.5555555555555556,
              "#d8576b"
             ],
             [
              0.6666666666666666,
              "#ed7953"
             ],
             [
              0.7777777777777778,
              "#fb9f3a"
             ],
             [
              0.8888888888888888,
              "#fdca26"
             ],
             [
              1,
              "#f0f921"
             ]
            ],
            "type": "heatmapgl"
           }
          ],
          "histogram": [
           {
            "marker": {
             "pattern": {
              "fillmode": "overlay",
              "size": 10,
              "solidity": 0.2
             }
            },
            "type": "histogram"
           }
          ],
          "histogram2d": [
           {
            "colorbar": {
             "outlinewidth": 0,
             "ticks": ""
            },
            "colorscale": [
             [
              0,
              "#0d0887"
             ],
             [
              0.1111111111111111,
              "#46039f"
             ],
             [
              0.2222222222222222,
              "#7201a8"
             ],
             [
              0.3333333333333333,
              "#9c179e"
             ],
             [
              0.4444444444444444,
              "#bd3786"
             ],
             [
              0.5555555555555556,
              "#d8576b"
             ],
             [
              0.6666666666666666,
              "#ed7953"
             ],
             [
              0.7777777777777778,
              "#fb9f3a"
             ],
             [
              0.8888888888888888,
              "#fdca26"
             ],
             [
              1,
              "#f0f921"
             ]
            ],
            "type": "histogram2d"
           }
          ],
          "histogram2dcontour": [
           {
            "colorbar": {
             "outlinewidth": 0,
             "ticks": ""
            },
            "colorscale": [
             [
              0,
              "#0d0887"
             ],
             [
              0.1111111111111111,
              "#46039f"
             ],
             [
              0.2222222222222222,
              "#7201a8"
             ],
             [
              0.3333333333333333,
              "#9c179e"
             ],
             [
              0.4444444444444444,
              "#bd3786"
             ],
             [
              0.5555555555555556,
              "#d8576b"
             ],
             [
              0.6666666666666666,
              "#ed7953"
             ],
             [
              0.7777777777777778,
              "#fb9f3a"
             ],
             [
              0.8888888888888888,
              "#fdca26"
             ],
             [
              1,
              "#f0f921"
             ]
            ],
            "type": "histogram2dcontour"
           }
          ],
          "mesh3d": [
           {
            "colorbar": {
             "outlinewidth": 0,
             "ticks": ""
            },
            "type": "mesh3d"
           }
          ],
          "parcoords": [
           {
            "line": {
             "colorbar": {
              "outlinewidth": 0,
              "ticks": ""
             }
            },
            "type": "parcoords"
           }
          ],
          "pie": [
           {
            "automargin": true,
            "type": "pie"
           }
          ],
          "scatter": [
           {
            "fillpattern": {
             "fillmode": "overlay",
             "size": 10,
             "solidity": 0.2
            },
            "type": "scatter"
           }
          ],
          "scatter3d": [
           {
            "line": {
             "colorbar": {
              "outlinewidth": 0,
              "ticks": ""
             }
            },
            "marker": {
             "colorbar": {
              "outlinewidth": 0,
              "ticks": ""
             }
            },
            "type": "scatter3d"
           }
          ],
          "scattercarpet": [
           {
            "marker": {
             "colorbar": {
              "outlinewidth": 0,
              "ticks": ""
             }
            },
            "type": "scattercarpet"
           }
          ],
          "scattergeo": [
           {
            "marker": {
             "colorbar": {
              "outlinewidth": 0,
              "ticks": ""
             }
            },
            "type": "scattergeo"
           }
          ],
          "scattergl": [
           {
            "marker": {
             "colorbar": {
              "outlinewidth": 0,
              "ticks": ""
             }
            },
            "type": "scattergl"
           }
          ],
          "scattermapbox": [
           {
            "marker": {
             "colorbar": {
              "outlinewidth": 0,
              "ticks": ""
             }
            },
            "type": "scattermapbox"
           }
          ],
          "scatterpolar": [
           {
            "marker": {
             "colorbar": {
              "outlinewidth": 0,
              "ticks": ""
             }
            },
            "type": "scatterpolar"
           }
          ],
          "scatterpolargl": [
           {
            "marker": {
             "colorbar": {
              "outlinewidth": 0,
              "ticks": ""
             }
            },
            "type": "scatterpolargl"
           }
          ],
          "scatterternary": [
           {
            "marker": {
             "colorbar": {
              "outlinewidth": 0,
              "ticks": ""
             }
            },
            "type": "scatterternary"
           }
          ],
          "surface": [
           {
            "colorbar": {
             "outlinewidth": 0,
             "ticks": ""
            },
            "colorscale": [
             [
              0,
              "#0d0887"
             ],
             [
              0.1111111111111111,
              "#46039f"
             ],
             [
              0.2222222222222222,
              "#7201a8"
             ],
             [
              0.3333333333333333,
              "#9c179e"
             ],
             [
              0.4444444444444444,
              "#bd3786"
             ],
             [
              0.5555555555555556,
              "#d8576b"
             ],
             [
              0.6666666666666666,
              "#ed7953"
             ],
             [
              0.7777777777777778,
              "#fb9f3a"
             ],
             [
              0.8888888888888888,
              "#fdca26"
             ],
             [
              1,
              "#f0f921"
             ]
            ],
            "type": "surface"
           }
          ],
          "table": [
           {
            "cells": {
             "fill": {
              "color": "#EBF0F8"
             },
             "line": {
              "color": "white"
             }
            },
            "header": {
             "fill": {
              "color": "#C8D4E3"
             },
             "line": {
              "color": "white"
             }
            },
            "type": "table"
           }
          ]
         },
         "layout": {
          "annotationdefaults": {
           "arrowcolor": "#2a3f5f",
           "arrowhead": 0,
           "arrowwidth": 1
          },
          "autotypenumbers": "strict",
          "coloraxis": {
           "colorbar": {
            "outlinewidth": 0,
            "ticks": ""
           }
          },
          "colorscale": {
           "diverging": [
            [
             0,
             "#8e0152"
            ],
            [
             0.1,
             "#c51b7d"
            ],
            [
             0.2,
             "#de77ae"
            ],
            [
             0.3,
             "#f1b6da"
            ],
            [
             0.4,
             "#fde0ef"
            ],
            [
             0.5,
             "#f7f7f7"
            ],
            [
             0.6,
             "#e6f5d0"
            ],
            [
             0.7,
             "#b8e186"
            ],
            [
             0.8,
             "#7fbc41"
            ],
            [
             0.9,
             "#4d9221"
            ],
            [
             1,
             "#276419"
            ]
           ],
           "sequential": [
            [
             0,
             "#0d0887"
            ],
            [
             0.1111111111111111,
             "#46039f"
            ],
            [
             0.2222222222222222,
             "#7201a8"
            ],
            [
             0.3333333333333333,
             "#9c179e"
            ],
            [
             0.4444444444444444,
             "#bd3786"
            ],
            [
             0.5555555555555556,
             "#d8576b"
            ],
            [
             0.6666666666666666,
             "#ed7953"
            ],
            [
             0.7777777777777778,
             "#fb9f3a"
            ],
            [
             0.8888888888888888,
             "#fdca26"
            ],
            [
             1,
             "#f0f921"
            ]
           ],
           "sequentialminus": [
            [
             0,
             "#0d0887"
            ],
            [
             0.1111111111111111,
             "#46039f"
            ],
            [
             0.2222222222222222,
             "#7201a8"
            ],
            [
             0.3333333333333333,
             "#9c179e"
            ],
            [
             0.4444444444444444,
             "#bd3786"
            ],
            [
             0.5555555555555556,
             "#d8576b"
            ],
            [
             0.6666666666666666,
             "#ed7953"
            ],
            [
             0.7777777777777778,
             "#fb9f3a"
            ],
            [
             0.8888888888888888,
             "#fdca26"
            ],
            [
             1,
             "#f0f921"
            ]
           ]
          },
          "colorway": [
           "#636efa",
           "#EF553B",
           "#00cc96",
           "#ab63fa",
           "#FFA15A",
           "#19d3f3",
           "#FF6692",
           "#B6E880",
           "#FF97FF",
           "#FECB52"
          ],
          "font": {
           "color": "#2a3f5f"
          },
          "geo": {
           "bgcolor": "white",
           "lakecolor": "white",
           "landcolor": "#E5ECF6",
           "showlakes": true,
           "showland": true,
           "subunitcolor": "white"
          },
          "hoverlabel": {
           "align": "left"
          },
          "hovermode": "closest",
          "mapbox": {
           "style": "light"
          },
          "paper_bgcolor": "white",
          "plot_bgcolor": "#E5ECF6",
          "polar": {
           "angularaxis": {
            "gridcolor": "white",
            "linecolor": "white",
            "ticks": ""
           },
           "bgcolor": "#E5ECF6",
           "radialaxis": {
            "gridcolor": "white",
            "linecolor": "white",
            "ticks": ""
           }
          },
          "scene": {
           "xaxis": {
            "backgroundcolor": "#E5ECF6",
            "gridcolor": "white",
            "gridwidth": 2,
            "linecolor": "white",
            "showbackground": true,
            "ticks": "",
            "zerolinecolor": "white"
           },
           "yaxis": {
            "backgroundcolor": "#E5ECF6",
            "gridcolor": "white",
            "gridwidth": 2,
            "linecolor": "white",
            "showbackground": true,
            "ticks": "",
            "zerolinecolor": "white"
           },
           "zaxis": {
            "backgroundcolor": "#E5ECF6",
            "gridcolor": "white",
            "gridwidth": 2,
            "linecolor": "white",
            "showbackground": true,
            "ticks": "",
            "zerolinecolor": "white"
           }
          },
          "shapedefaults": {
           "line": {
            "color": "#2a3f5f"
           }
          },
          "ternary": {
           "aaxis": {
            "gridcolor": "white",
            "linecolor": "white",
            "ticks": ""
           },
           "baxis": {
            "gridcolor": "white",
            "linecolor": "white",
            "ticks": ""
           },
           "bgcolor": "#E5ECF6",
           "caxis": {
            "gridcolor": "white",
            "linecolor": "white",
            "ticks": ""
           }
          },
          "title": {
           "x": 0.05
          },
          "xaxis": {
           "automargin": true,
           "gridcolor": "white",
           "linecolor": "white",
           "ticks": "",
           "title": {
            "standoff": 15
           },
           "zerolinecolor": "white",
           "zerolinewidth": 2
          },
          "yaxis": {
           "automargin": true,
           "gridcolor": "white",
           "linecolor": "white",
           "ticks": "",
           "title": {
            "standoff": 15
           },
           "zerolinecolor": "white",
           "zerolinewidth": 2
          }
         }
        },
        "width": 800
       }
      }
     },
     "metadata": {},
     "output_type": "display_data"
    }
   ],
   "source": [
    "from lll import *\n",
    "import matplotlib.pyplot as plt\n",
    "basis = generate_lattice_points(3, 2**32)\n",
    "\t\n",
    "#instantiating the class\n",
    "reduction = LLL(3, basis)\n",
    "\n",
    "print(\"Basis:\\n\", basis)\n",
    "print(\"Hadamard Ratio: \", Lattice.had_ratio(basis))\n",
    "\n",
    "red_bas= reduction.lll()\n",
    "print(\"Reduced Basis:\\n\", red_bas)\n",
    "print(\"Hadamard Ratio: \", Lattice.had_ratio(red_bas))\n",
    "\n",
    "plot_lattice_3D(basis[0], basis[1], basis[2], red_bas[0], red_bas[1], red_bas[2], points_count=3)"
   ]
  },
  {
   "cell_type": "code",
   "execution_count": 8,
   "metadata": {},
   "outputs": [
    {
     "name": "stderr",
     "output_type": "stream",
     "text": [
      "/Users/jenish/Library/CloudStorage/Dropbox/crypto/Lattice/lattice_code/src/lattice.py:79: RuntimeWarning: overflow encountered in scalar multiply\n",
      "  vol *= np.linalg.norm(i)\n",
      "/Users/jenish/Library/CloudStorage/Dropbox/crypto/Lattice/lattice_code/src/lattice.py:67: RuntimeWarning: overflow encountered in scalar multiply\n",
      "  self.vol *= np.linalg.norm(i)\n",
      "/Users/jenish/Library/Python/3.9/lib/python/site-packages/numpy/linalg/linalg.py:2139: RuntimeWarning: overflow encountered in det\n",
      "  r = _umath_linalg.det(a, signature=signature)\n",
      "/Users/jenish/Library/CloudStorage/Dropbox/crypto/Lattice/lattice_code/src/lattice.py:80: RuntimeWarning: invalid value encountered in scalar divide\n",
      "  return abs(det/vol) ** (1/dim)\n",
      "/Users/jenish/Library/CloudStorage/Dropbox/crypto/Lattice/lattice_code/src/lattice.py:68: RuntimeWarning: invalid value encountered in scalar divide\n",
      "  return abs(self.det/self.vol) ** (1/self.dim)\n"
     ]
    }
   ],
   "source": [
    "i_had = []\n",
    "for i in range(3, 50): #i is the dimension\n",
    "\thad_list = []\n",
    "\thad_list_bad = []\n",
    "\tfor j in range(100):\n",
    "\t\tbasis = generate_lattice_points(i, 2**32)\n",
    "\t\thad_list_bad.append(Lattice.had_ratio(basis))\n",
    "\t\treduced_bas = LLL(i, basis).lll()\n",
    "\t\thad_list.append(Lattice.had_ratio(reduced_bas))\n",
    "\ti_had.append([i, sum(had_list)/len(had_list), sum(had_list_bad)/len(had_list_bad)])\n",
    "    \n",
    "    "
   ]
  },
  {
   "cell_type": "code",
   "execution_count": 9,
   "metadata": {},
   "outputs": [],
   "source": [
    "i_had = np.array(i_had)"
   ]
  },
  {
   "cell_type": "code",
   "execution_count": 13,
   "metadata": {},
   "outputs": [
    {
     "data": {
      "image/png": "[encoded data removed]",
      "text/plain": [
       "<Figure size 640x480 with 1 Axes>"
      ]
     },
     "metadata": {},
     "output_type": "display_data"
    }
   ],
   "source": [
    "plt.scatter(x= i_had[:,0], y = i_had[:, 1], c='b', )\n",
    "plt.scatter(x = i_had[:,0], y = i_had[:,2], c = 'r')\n",
    "plt.legend([\"Reduced Basis\", \"Original Basis\"], loc =\"upper right\")\n",
    "plt.xlabel(\"Dimension\")\n",
    "plt.ylabel(\"Average Hadamard Ratio\")\n",
    "plt.show()"
   ]
  },
  {
   "cell_type": "code",
   "execution_count": 11,
   "metadata": {},
   "outputs": [],
   "source": [
    "import numpy as np\n",
    "\n",
    "def generate_lattice_points(dimension, q):\n",
    "\t'''\n",
    "\tq: parameter for finite field Z_q\n",
    "\tdimension: lattice dimension\n",
    "\tgenerates a (dimension * dimension) matrix with random entries from Z_q. The basis can be any\n",
    "\t'''\n",
    "\tdet = 0\n",
    "\twhile det == 0:\n",
    "\t\tM = np.random.randint(-q, q, size=(dimension, dimension))\n",
    "\t\tdet = np.linalg.det(M)\n",
    "\treturn M\n",
    "\n",
    "def had_ratio(basis:np.ndarray):\n",
    "\t'''\n",
    "\tComputes the hadamard_ratio\n",
    "\t'''\n",
    "\tdet = np.linalg.det(basis)\n",
    "\tdim = basis.shape[0]\n",
    "\tvol = 1\n",
    "\tfor i in basis:\n",
    "\t\tvol *= np.linalg.norm(i)\n",
    "\treturn abs(det/vol) ** (1/dim)"
   ]
  },
  {
   "cell_type": "code",
   "execution_count": 21,
   "metadata": {},
   "outputs": [],
   "source": [
    "i_had = []\n",
    "for i in range(3, 50): #i is the dimension\n",
    "\thad_list = []\n",
    "\thad_list_bad = []\n",
    "\tfor j in range(100):\n",
    "\t\tbasis = generate_lattice_points(i, 2**32)\n",
    "\t\thad_list_bad.append(had_ratio(basis))\n",
    "\t\tbasis = Matrix(basis)\n",
    "\t\treduced_bas = basis.LLL()\n",
    "\t\thad_list.append(had_ratio(reduced_bas.numpy()))\n",
    "\ti_had.append([i, sum(had_list)/len(had_list), sum(had_list_bad)/len(had_list_bad)])"
   ]
  },
  {
   "cell_type": "code",
   "execution_count": 22,
   "metadata": {},
   "outputs": [],
   "source": [
    "i_had = np.array(i_had)"
   ]
  },
  {
   "cell_type": "code",
   "execution_count": 23,
   "metadata": {},
   "outputs": [
    {
     "data": {
      "image/png": "[encoded data removed]",
      "text/plain": [
       "<Figure size 640x480 with 1 Axes>"
      ]
     },
     "metadata": {},
     "output_type": "display_data"
    }
   ],
   "source": [
    "import matplotlib.pyplot as plt\n",
    "plt.scatter(x= i_had[:,0], y = i_had[:, 1], c='b', )\n",
    "plt.scatter(x = i_had[:,0], y = i_had[:,2], c = 'r')\n",
    "plt.legend([\"Reduced Basis\", \"Original Basis\"], loc =\"upper right\")\n",
    "plt.xlabel(\"Dimension\")\n",
    "plt.ylabel(\"Average Hadamard Ratio\")\n",
    "plt.show()"
   ]
  },
  {
   "cell_type": "code",
   "execution_count": null,
   "metadata": {},
   "outputs": [],
   "source": []
  }
 ],
 "metadata": {
  "kernelspec": {
   "display_name": "Python 3",
   "language": "python",
   "name": "python3"
  },
  "language_info": {
   "codemirror_mode": {
    "name": "ipython",
    "version": 3
   },
   "file_extension": ".py",
   "mimetype": "text/x-python",
   "name": "python",
   "nbconvert_exporter": "python",
   "pygments_lexer": "ipython3",
   "version": "3.9.6"
  },
  "orig_nbformat": 4
 },
 "nbformat": 4,
 "nbformat_minor": 2
}
